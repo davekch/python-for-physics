{
 "cells": [
  {
   "cell_type": "code",
   "execution_count": null,
   "metadata": {},
   "outputs": [],
   "source": [
    "from phasespace import GenParticle\n",
    "import vector\n",
    "import matplotlib.pyplot as plt"
   ]
  },
  {
   "cell_type": "code",
   "execution_count": null,
   "metadata": {},
   "outputs": [],
   "source": [
    "N_EVENTS = 100_000\n",
    "\n",
    "BPLUS_M = 5.27965\n",
    "KAON_MASS = 0.493677\n",
    "NU_MASS = 0.0\n",
    "\n",
    "\n",
    "Bplus = GenParticle(\"B+\", BPLUS_M)\n",
    "Kplus = GenParticle(\"K+\", KAON_MASS)\n",
    "nu = GenParticle(\"nu\", NU_MASS)\n",
    "nubar = GenParticle(\"nubar\", NU_MASS)\n",
    "Bplus.set_children(Kplus, nu, nubar)"
   ]
  },
  {
   "cell_type": "code",
   "execution_count": null,
   "metadata": {},
   "outputs": [],
   "source": [
    "weights, particles = Bplus.generate(N_EVENTS)"
   ]
  },
  {
   "cell_type": "code",
   "execution_count": null,
   "metadata": {},
   "outputs": [],
   "source": [
    "particles"
   ]
  },
  {
   "cell_type": "code",
   "execution_count": null,
   "metadata": {},
   "outputs": [],
   "source": [
    "def get_fourmomenta_slow(momenta):\n",
    "    \"\"\"simple implementation with for-loop\"\"\"\n",
    "    momenta = momenta.numpy()\n",
    "    return [\n",
    "        vector.obj(px=p[0], py=p[1], pz=p[2], E=p[3])\n",
    "        for p in momenta\n",
    "    ]\n",
    "\n",
    "def get_fourmomenta_fast(momenta):\n",
    "    \"\"\"slightly more involved with vector.zip; much faster\"\"\"\n",
    "    momenta = momenta.numpy()\n",
    "    return vector.zip({\n",
    "        \"px\": momenta[:, 0],\n",
    "        \"py\": momenta[:, 1],\n",
    "        \"pz\": momenta[:, 2],\n",
    "        \"E\": momenta[:, 3]\n",
    "    })"
   ]
  },
  {
   "cell_type": "code",
   "execution_count": null,
   "metadata": {},
   "outputs": [],
   "source": [
    "%%time\n",
    "p_nu = get_fourmomenta_fast(particles[\"nu\"])\n",
    "p_nubar = get_fourmomenta_fast(particles[\"nubar\"])"
   ]
  },
  {
   "attachments": {},
   "cell_type": "markdown",
   "metadata": {},
   "source": [
    "see next example below for how to use the slow / easier variation or how to compute q2 by hand"
   ]
  },
  {
   "cell_type": "code",
   "execution_count": null,
   "metadata": {},
   "outputs": [],
   "source": [
    "q = p_nu + p_nubar"
   ]
  },
  {
   "cell_type": "code",
   "execution_count": null,
   "metadata": {},
   "outputs": [],
   "source": [
    "plt.hist(q.m2, weights=weights)\n",
    "plt.show()"
   ]
  },
  {
   "attachments": {},
   "cell_type": "markdown",
   "metadata": {},
   "source": [
    "now do the same but with $B^+\\rightarrow\\tau^+\\nu\\rightarrow K^+\\nu\\bar{\\nu}$"
   ]
  },
  {
   "cell_type": "code",
   "execution_count": null,
   "metadata": {},
   "outputs": [],
   "source": [
    "TAU_MASS = 1.776\n",
    "\n",
    "\n",
    "Bplus = GenParticle(\"B+\", BPLUS_M)\n",
    "Kplus = GenParticle(\"K+\", KAON_MASS)\n",
    "nu = GenParticle(\"nu\", NU_MASS)\n",
    "nubar = GenParticle(\"nubar\", NU_MASS)\n",
    "tau = GenParticle(\"tau\", TAU_MASS).set_children(Kplus, nubar)\n",
    "Bplus.set_children(tau, nu)"
   ]
  },
  {
   "cell_type": "code",
   "execution_count": null,
   "metadata": {},
   "outputs": [],
   "source": [
    "weights, particles = Bplus.generate(100000)"
   ]
  },
  {
   "attachments": {},
   "cell_type": "markdown",
   "metadata": {},
   "source": [
    "let's do the slow variation; getting the four-momenta is easier to code this way (see `get_fourmomenta_slow`) but calculating $q^2$ is a bit more complicated this way"
   ]
  },
  {
   "cell_type": "code",
   "execution_count": null,
   "metadata": {},
   "outputs": [],
   "source": [
    "%%time\n",
    "p_nu = get_fourmomenta_slow(particles[\"nu\"])\n",
    "p_nubar = get_fourmomenta_slow(particles[\"nubar\"])"
   ]
  },
  {
   "cell_type": "code",
   "execution_count": null,
   "metadata": {},
   "outputs": [],
   "source": [
    "q2 = [(nu + nubar).m2 for nu, nubar in zip(p_nu, p_nubar)]"
   ]
  },
  {
   "cell_type": "code",
   "execution_count": null,
   "metadata": {},
   "outputs": [],
   "source": [
    "plt.hist(q2, weights=weights)\n",
    "plt.show()"
   ]
  },
  {
   "attachments": {},
   "cell_type": "markdown",
   "metadata": {},
   "source": [
    "alternatively, you can also calculate q2 \"by hand\""
   ]
  },
  {
   "cell_type": "code",
   "execution_count": null,
   "metadata": {},
   "outputs": [],
   "source": [
    "%%time\n",
    "q2 = [\n",
    "    - (nu[0]+nubar[0])**2 - (nu[1]+nubar[1])**2 - (nu[2]+nubar[2])**2 + (nu[3]+nubar[3])**2\n",
    "    for nu, nubar in zip(particles[\"nu\"].numpy(), particles[\"nubar\"].numpy())\n",
    "]"
   ]
  },
  {
   "cell_type": "code",
   "execution_count": null,
   "metadata": {},
   "outputs": [],
   "source": [
    "plt.hist(q2, weights=weights)\n",
    "plt.show()"
   ]
  }
 ],
 "metadata": {
  "kernelspec": {
   "display_name": "physics-venv",
   "language": "python",
   "name": "python3"
  },
  "language_info": {
   "codemirror_mode": {
    "name": "ipython",
    "version": 3
   },
   "file_extension": ".py",
   "mimetype": "text/x-python",
   "name": "python",
   "nbconvert_exporter": "python",
   "pygments_lexer": "ipython3",
   "version": "3.10.4"
  },
  "orig_nbformat": 4
 },
 "nbformat": 4,
 "nbformat_minor": 2
}
