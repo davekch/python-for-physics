{
 "cells": [
  {
   "cell_type": "code",
   "execution_count": 28,
   "metadata": {},
   "outputs": [],
   "source": [
    "# ! pip install phasespace vector awkward matplotlib"
   ]
  },
  {
   "attachments": {},
   "cell_type": "markdown",
   "metadata": {},
   "source": [
    "A simple example\n",
    "--------------------------\n",
    "\n",
    "\n",
    "With these considerations in mind, one can build a decay chain by using the ``set_children`` method of the ``GenParticle``\n",
    "class (which returns the class itself). As an example, to build the $B^{+}\\to K^+ \\pi^+ \\pi^-$ decay, we would write:\n"
   ]
  },
  {
   "cell_type": "code",
   "execution_count": 7,
   "metadata": {},
   "outputs": [
    {
     "data": {
      "text/plain": [
       "<phasespace.GenParticle: name='B+' mass=5.28 children=[K+, pi+, pi-]>"
      ]
     },
     "execution_count": 7,
     "metadata": {},
     "output_type": "execute_result"
    }
   ],
   "source": [
    "from phasespace import GenParticle\n",
    "\n",
    "BPLUS_MASS = 5.27925\n",
    "PION_MASS  = 0.13957\n",
    "KAON_MASS  = 0.49368\n",
    "\n",
    "piplus = GenParticle('pi+', PION_MASS)\n",
    "piminus = GenParticle('pi-', PION_MASS)\n",
    "kplus = GenParticle('K+', KAON_MASS)\n",
    "bplus = GenParticle('B+', BPLUS_MASS)\n",
    "\n",
    "bplus.set_children(kplus, piplus, piminus)"
   ]
  },
  {
   "attachments": {},
   "cell_type": "markdown",
   "metadata": {},
   "source": [
    "\n",
    "\n",
    "Phasespace events can be generated using the ``generate`` method, which gets the number of events to generate as input.\n",
    "The method returns:\n",
    "\n",
    "- The normalized weights of each event, as an array of dimension (n_events,).\n",
    "- The 4-momenta of the generated particles as values of a dictionary with the particle name as key. These momenta\n",
    "  are expressed as arrays of dimension (n_events, 4).\n"
   ]
  },
  {
   "cell_type": "code",
   "execution_count": 10,
   "metadata": {},
   "outputs": [
    {
     "name": "stderr",
     "output_type": "stream",
     "text": [
      "2023-06-21 17:29:27.687756: I tensorflow/core/common_runtime/executor.cc:1197] [/device:CPU:0] (DEBUG INFO) Executor start aborting (this does not indicate an error and you can ignore this message): INVALID_ARGUMENT: You must feed a value for placeholder tensor 'n_events' with dtype int64\n",
      "\t [[{{node n_events}}]]\n",
      "2023-06-21 17:29:27.779443: I tensorflow/core/common_runtime/executor.cc:1197] [/device:CPU:0] (DEBUG INFO) Executor start aborting (this does not indicate an error and you can ignore this message): INVALID_ARGUMENT: You must feed a value for placeholder tensor 'n_events' with dtype int64\n",
      "\t [[{{node n_events}}]]\n",
      "2023-06-21 17:29:27.793840: I tensorflow/core/common_runtime/executor.cc:1197] [/device:CPU:0] (DEBUG INFO) Executor start aborting (this does not indicate an error and you can ignore this message): INVALID_ARGUMENT: You must feed a value for placeholder tensor 'n_events' with dtype int64\n",
      "\t [[{{node n_events}}]]\n",
      "2023-06-21 17:29:27.881221: I tensorflow/core/common_runtime/executor.cc:1197] [/device:CPU:0] (DEBUG INFO) Executor start aborting (this does not indicate an error and you can ignore this message): INVALID_ARGUMENT: You must feed a value for placeholder tensor 'n_events' with dtype int64\n",
      "\t [[{{node n_events}}]]\n",
      "2023-06-21 17:29:27.895479: I tensorflow/core/common_runtime/executor.cc:1197] [/device:CPU:0] (DEBUG INFO) Executor start aborting (this does not indicate an error and you can ignore this message): INVALID_ARGUMENT: You must feed a value for placeholder tensor 'n_events' with dtype int64\n",
      "\t [[{{node n_events}}]]\n",
      "2023-06-21 17:29:27.994787: I tensorflow/core/common_runtime/executor.cc:1197] [/device:CPU:0] (DEBUG INFO) Executor start aborting (this does not indicate an error and you can ignore this message): INVALID_ARGUMENT: You must feed a value for placeholder tensor 'n_events' with dtype int64\n",
      "\t [[{{node n_events}}]]\n",
      "2023-06-21 17:29:28.001867: I tensorflow/core/common_runtime/executor.cc:1197] [/device:CPU:0] (DEBUG INFO) Executor start aborting (this does not indicate an error and you can ignore this message): INVALID_ARGUMENT: You must feed a value for placeholder tensor 'n_events' with dtype int64\n",
      "\t [[{{node n_events}}]]\n",
      "2023-06-21 17:29:28.003300: I tensorflow/core/common_runtime/executor.cc:1197] [/device:CPU:0] (DEBUG INFO) Executor start aborting (this does not indicate an error and you can ignore this message): INVALID_ARGUMENT: You must feed a value for placeholder tensor 'n_events' with dtype int64\n",
      "\t [[{{node n_events}}]]\n"
     ]
    }
   ],
   "source": [
    "N_EVENTS = 1000\n",
    "\n",
    "weights, particles = bplus.generate(n_events=N_EVENTS)"
   ]
  },
  {
   "cell_type": "code",
   "execution_count": 11,
   "metadata": {},
   "outputs": [
    {
     "data": {
      "text/plain": [
       "{'K+': <tf.Tensor: shape=(1000, 4), dtype=float64, numpy=\n",
       " array([[ 0.58544537, -0.71443819, -2.42826663,  2.64449749],\n",
       "        [-1.59790527, -1.01993749,  0.19374439,  1.96845893],\n",
       "        [-0.1278171 , -0.24371163,  0.6447497 ,  0.85741162],\n",
       "        ...,\n",
       "        [ 1.86456135, -1.08543598,  0.85480333,  2.37258698],\n",
       "        [ 1.30483702, -0.00775103, -1.46394729,  2.02225649],\n",
       "        [ 0.28646562,  0.46885716,  1.41540017,  1.59654852]])>,\n",
       " 'pi+': <tf.Tensor: shape=(1000, 4), dtype=float64, numpy=\n",
       " array([[-0.41918271,  0.43332666,  1.12520828,  1.28415716],\n",
       "        [-0.34473113, -0.61656992,  0.17309884,  0.74056804],\n",
       "        [-1.65656443, -0.6820008 ,  0.77496223,  1.95687942],\n",
       "        ...,\n",
       "        [ 0.13809021,  0.31400413,  0.2899532 ,  0.47034045],\n",
       "        [-1.39590079, -0.83582206,  1.70813042,  2.36311804],\n",
       "        [ 0.17527733, -1.79526873, -0.20020038,  1.82023952]])>,\n",
       " 'pi-': <tf.Tensor: shape=(1000, 4), dtype=float64, numpy=\n",
       " array([[-0.16626266,  0.28111152,  1.30305835,  1.35059535],\n",
       "        [ 1.9426364 ,  1.63650741, -0.36684323,  2.57022303],\n",
       "        [ 1.78438154,  0.92571243, -1.41971192,  2.46495896],\n",
       "        ...,\n",
       "        [-2.00265156,  0.77143185, -1.14475653,  2.43632257],\n",
       "        [ 0.09106378,  0.84357309, -0.24418313,  0.89387547],\n",
       "        [-0.46174295,  1.32641157, -1.2151998 ,  1.86246195]])>}"
      ]
     },
     "execution_count": 11,
     "metadata": {},
     "output_type": "execute_result"
    }
   ],
   "source": [
    "particles"
   ]
  },
  {
   "attachments": {},
   "cell_type": "markdown",
   "metadata": {},
   "source": [
    "For convenience, we write a simple function to extract the 4-momenta, using the [vector](https://vector.readthedocs.io/en/latest/) package:"
   ]
  },
  {
   "cell_type": "code",
   "execution_count": 26,
   "metadata": {},
   "outputs": [],
   "source": [
    "import vector\n",
    "\n",
    "def get_fourmomenta(momenta):\n",
    "    \"\"\"slightly more involved with vector.zip; much faster\"\"\"\n",
    "    momenta = momenta.numpy()\n",
    "    return vector.zip({\n",
    "        \"px\": momenta[:, 0],\n",
    "        \"py\": momenta[:, 1],\n",
    "        \"pz\": momenta[:, 2],\n",
    "        \"E\": momenta[:, 3]\n",
    "    })\n",
    "\n",
    "pk = get_fourmomenta(particles['K+'])"
   ]
  },
  {
   "attachments": {},
   "cell_type": "markdown",
   "metadata": {},
   "source": [
    "We can now plot kinematic variables, such as the momentum magnitude of the Kaon. Note that we need to include the weights of our MC samples."
   ]
  },
  {
   "cell_type": "code",
   "execution_count": 27,
   "metadata": {},
   "outputs": [
    {
     "data": {
      "text/plain": [
       "(array([ 3.29815792,  6.61919647, 18.02532321, 19.90961258, 27.72836334,\n",
       "        25.2972502 , 31.65660436, 44.92062332, 49.63856494, 50.85294258]),\n",
       " array([0.12985843, 0.37745983, 0.62506122, 0.87266262, 1.12026401,\n",
       "        1.36786541, 1.6154668 , 1.8630682 , 2.11066959, 2.35827099,\n",
       "        2.60587238]),\n",
       " <BarContainer object of 10 artists>)"
      ]
     },
     "execution_count": 27,
     "metadata": {},
     "output_type": "execute_result"
    },
    {
     "data": {
      "image/png": "[encoded data removed]",
      "text/plain": [
       "<Figure size 640x480 with 1 Axes>"
      ]
     },
     "metadata": {},
     "output_type": "display_data"
    }
   ],
   "source": [
    "import matplotlib.pyplot as plt\n",
    "\n",
    "plt.hist(pk.p, weights=weights)"
   ]
  }
 ],
 "metadata": {
  "kernelspec": {
   "display_name": "Python 3",
   "language": "python",
   "name": "python3"
  },
  "language_info": {
   "codemirror_mode": {
    "name": "ipython",
    "version": 3
   },
   "file_extension": ".py",
   "mimetype": "text/x-python",
   "name": "python",
   "nbconvert_exporter": "python",
   "pygments_lexer": "ipython3",
   "version": "3.10.6"
  },
  "orig_nbformat": 4
 },
 "nbformat": 4,
 "nbformat_minor": 2
}
