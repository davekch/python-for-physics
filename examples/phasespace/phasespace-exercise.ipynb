{
 "cells": [
  {
   "cell_type": "code",
   "execution_count": null,
   "metadata": {},
   "outputs": [],
   "source": [
    "# ! pip install phasespace vector awkward matplotlib"
   ]
  },
  {
   "attachments": {},
   "cell_type": "markdown",
   "metadata": {},
   "source": [
    "# phasespace\n",
    "Simulate the decays\n",
    "$\n",
    "B^+ \\rightarrow K^+\\nu\\bar{\\nu}\n",
    "$\n",
    "and \n",
    "$\n",
    "B^+ \\rightarrow \\tau^+\\nu \\rightarrow K^+\\nu\\bar{\\nu}\n",
    "$\n",
    "with the phasespace package.\n",
    "Compare the distributions of $q^2 = (p_{\\nu} + p_{\\bar{\\nu}})^2$.\n",
    "\n",
    "Assume massless neutrinos."
   ]
  }
 ],
 "metadata": {
  "language_info": {
   "name": "python"
  },
  "orig_nbformat": 4
 },
 "nbformat": 4,
 "nbformat_minor": 2
}
