{
 "cells": [
  {
   "cell_type": "code",
   "execution_count": null,
   "metadata": {},
   "outputs": [],
   "source": [
    "# ! pip install phasespace vector awkward matplotlib"
   ]
  },
  {
   "attachments": {},
   "cell_type": "markdown",
   "metadata": {},
   "source": [
    "A simple example\n",
    "--------------------------\n",
    "\n",
    "\n",
    "With these considerations in mind, one can build a decay chain by using the ``set_children`` method of the ``GenParticle``\n",
    "class. As an example, to build the $B^{+}\\to K^+ \\pi^+ \\pi^-$ decay, we would write:\n"
   ]
  },
  {
   "cell_type": "code",
   "execution_count": null,
   "metadata": {},
   "outputs": [],
   "source": [
    "from phasespace import GenParticle\n",
    "\n",
    "BPLUS_MASS = 5.27925\n",
    "PION_MASS  = 0.13957\n",
    "KAON_MASS  = 0.49368\n",
    "\n",
    "piplus = GenParticle('pi+', PION_MASS)\n",
    "piminus = GenParticle('pi-', PION_MASS)\n",
    "kplus = GenParticle('K+', KAON_MASS)\n",
    "bplus = GenParticle('B+', BPLUS_MASS)\n",
    "\n",
    "bplus.set_children(kplus, piplus, piminus)"
   ]
  },
  {
   "attachments": {},
   "cell_type": "markdown",
   "metadata": {},
   "source": [
    "\n",
    "\n",
    "Phasespace events can be generated using the ``generate`` method, which gets the number of events to generate as input.\n",
    "The method returns:\n",
    "\n",
    "- The normalized weights of each event, as an array of dimension `(n_events,)`.\n",
    "- The 4-momenta of the generated particles as values of a dictionary with the particle name as key. These momenta\n",
    "  are expressed as arrays of dimension `(n_events, 4)`.\n"
   ]
  },
  {
   "cell_type": "code",
   "execution_count": null,
   "metadata": {},
   "outputs": [],
   "source": [
    "N_EVENTS = 1000\n",
    "\n",
    "weights, particles = bplus.generate(n_events=N_EVENTS)"
   ]
  },
  {
   "cell_type": "code",
   "execution_count": null,
   "metadata": {},
   "outputs": [],
   "source": [
    "particles"
   ]
  },
  {
   "attachments": {},
   "cell_type": "markdown",
   "metadata": {},
   "source": [
    "For convenience, we write a simple function to extract the 4-momenta, using the [vector](https://vector.readthedocs.io/en/latest/) package:"
   ]
  },
  {
   "cell_type": "code",
   "execution_count": null,
   "metadata": {},
   "outputs": [],
   "source": [
    "import vector\n",
    "\n",
    "def get_fourmomenta(momenta):\n",
    "    \"\"\"slightly more involved with vector.zip; much faster\"\"\"\n",
    "    momenta = momenta.numpy()\n",
    "    return vector.zip({\n",
    "        \"px\": momenta[:, 0],\n",
    "        \"py\": momenta[:, 1],\n",
    "        \"pz\": momenta[:, 2],\n",
    "        \"E\": momenta[:, 3]\n",
    "    })\n",
    "\n",
    "pk = get_fourmomenta(particles['K+'])"
   ]
  },
  {
   "attachments": {},
   "cell_type": "markdown",
   "metadata": {},
   "source": [
    "We can now plot kinematic variables, such as the momentum magnitude of the Kaon. Note that we need to include the **weights** of our MC samples."
   ]
  },
  {
   "cell_type": "code",
   "execution_count": null,
   "metadata": {},
   "outputs": [],
   "source": [
    "import matplotlib.pyplot as plt\n",
    "\n",
    "plt.hist(pk.p, weights=weights)"
   ]
  }
 ],
 "metadata": {
  "kernelspec": {
   "display_name": "Python 3",
   "language": "python",
   "name": "python3"
  },
  "language_info": {
   "codemirror_mode": {
    "name": "ipython",
    "version": 3
   },
   "file_extension": ".py",
   "mimetype": "text/x-python",
   "name": "python",
   "nbconvert_exporter": "python",
   "pygments_lexer": "ipython3",
   "version": "3.10.4"
  },
  "orig_nbformat": 4
 },
 "nbformat": 4,
 "nbformat_minor": 2
}
